{
 "cells": [
  {
   "cell_type": "code",
   "execution_count": 1,
   "id": "d7953673-949c-4408-91b7-21efc1e7b166",
   "metadata": {},
   "outputs": [],
   "source": [
    "def warn(*args, **kwargs):\n",
    "    pass\n",
    "import warnings\n",
    "warnings.warn = warn\n",
    "\n",
    "#Import libraries \n",
    "\n",
    "# Pandas is for holding the text in a dataframe\n",
    "import pandas as pd\n",
    "\n",
    "# Matplotlib and seaborn package is for plotting of visualisations\n",
    "import matplotlib.pyplot as plt\n",
    "import seaborn as sns\n",
    "\n",
    "# Numpy is for numerical processing usage\n",
    "import numpy as np\n",
    "\n",
    "# request is used for pulling data from the internet\n",
    "import requests, time\n",
    "\n",
    "# time is used for timing functions\n",
    "import time, datetime\n",
    "\n",
    "# import SK learn modules for processing of text and machine learning\n",
    "from sklearn.model_selection import train_test_split, GridSearchCV\n",
    "from sklearn.pipeline import Pipeline\n",
    "from sklearn.naive_bayes import MultinomialNB\n",
    "from sklearn.linear_model import LogisticRegression\n",
    "from sklearn.metrics import confusion_matrix, plot_confusion_matrix\n",
    "from sklearn.feature_extraction.text import CountVectorizer, TfidfVectorizer\n",
    "from nltk.corpus import stopwords\n",
    "from nltk.stem import WordNetLemmatizer\n",
    "from nltk.tokenize import RegexpTokenizer\n",
    "\n",
    "# Change setting of pandas to view many items\n",
    "pd.options.display.max_columns = 500\n",
    "pd.options.display.max_rows = 500\n",
    "pd.options.display.max_info_columns = 200\n",
    "pd.options.display.max_colwidth = 500"
   ]
  },
  {
   "cell_type": "markdown",
   "id": "8d51c691-2dc1-4f1d-b3b8-60e1c49715e1",
   "metadata": {},
   "source": [
    "# GA-DSIF9 Project 3 Part 2 of 2"
   ]
  },
  {
   "cell_type": "markdown",
   "id": "37cd6446-077d-41de-9896-6234d6a41124",
   "metadata": {},
   "source": [
    "# 5. Preprocessing"
   ]
  },
  {
   "cell_type": "code",
   "execution_count": 2,
   "id": "397ede3d-e1dd-40f7-b2e5-d9f6f9e7679d",
   "metadata": {},
   "outputs": [],
   "source": [
    "# Load data\n",
    "df = pd.read_csv(\"../dataset/analysis.csv\")"
   ]
  },
  {
   "cell_type": "code",
   "execution_count": 3,
   "id": "efdce978-5ac9-4782-a09e-84035eaf6461",
   "metadata": {},
   "outputs": [
    {
     "data": {
      "text/html": [
       "<div>\n",
       "<style scoped>\n",
       "    .dataframe tbody tr th:only-of-type {\n",
       "        vertical-align: middle;\n",
       "    }\n",
       "\n",
       "    .dataframe tbody tr th {\n",
       "        vertical-align: top;\n",
       "    }\n",
       "\n",
       "    .dataframe thead th {\n",
       "        text-align: right;\n",
       "    }\n",
       "</style>\n",
       "<table border=\"1\" class=\"dataframe\">\n",
       "  <thead>\n",
       "    <tr style=\"text-align: right;\">\n",
       "      <th></th>\n",
       "      <th>title_text</th>\n",
       "      <th>subreddit</th>\n",
       "    </tr>\n",
       "  </thead>\n",
       "  <tbody>\n",
       "    <tr>\n",
       "      <th>0</th>\n",
       "      <td>need some help hi play on iro chaos currently at lvl 96 and jlvl 50 knight levelling ha hit bit of crawl mob tend to be too difficult for me im non vip player and newbie only have enough zeny for transcend and some supply for levelling any advice on where best to go ve been trying to look up some guide but only map recommendation came up</td>\n",
       "      <td>RagnarokOnline</td>\n",
       "    </tr>\n",
       "  </tbody>\n",
       "</table>\n",
       "</div>"
      ],
      "text/plain": [
       "                                                                                                                                                                                                                                                                                                                                            title_text  \\\n",
       "0  need some help hi play on iro chaos currently at lvl 96 and jlvl 50 knight levelling ha hit bit of crawl mob tend to be too difficult for me im non vip player and newbie only have enough zeny for transcend and some supply for levelling any advice on where best to go ve been trying to look up some guide but only map recommendation came up   \n",
       "\n",
       "        subreddit  \n",
       "0  RagnarokOnline  "
      ]
     },
     "execution_count": 3,
     "metadata": {},
     "output_type": "execute_result"
    }
   ],
   "source": [
    "# Renaming column name\n",
    "df.rename(columns={'lemmatised_entries':'title_text'}, inplace=True)\n",
    "df.head(1)"
   ]
  },
  {
   "cell_type": "code",
   "execution_count": 4,
   "id": "f06497db-4afe-4572-9c97-64b172e636c9",
   "metadata": {},
   "outputs": [
    {
     "data": {
      "text/html": [
       "<div>\n",
       "<style scoped>\n",
       "    .dataframe tbody tr th:only-of-type {\n",
       "        vertical-align: middle;\n",
       "    }\n",
       "\n",
       "    .dataframe tbody tr th {\n",
       "        vertical-align: top;\n",
       "    }\n",
       "\n",
       "    .dataframe thead th {\n",
       "        text-align: right;\n",
       "    }\n",
       "</style>\n",
       "<table border=\"1\" class=\"dataframe\">\n",
       "  <thead>\n",
       "    <tr style=\"text-align: right;\">\n",
       "      <th></th>\n",
       "      <th>title_text</th>\n",
       "      <th>subreddit</th>\n",
       "    </tr>\n",
       "  </thead>\n",
       "  <tbody>\n",
       "    <tr>\n",
       "      <th>1189</th>\n",
       "      <td>super haste inferno wolf portal bug for two day straight haven gotten any inferno wolf portal appearing on the map despite grinded for more than hr across two character somehow wa able to max the feather 300 300 yesterday and today but the super booster is showing is this bug am the only one having one submitted ticket</td>\n",
       "      <td>Maplestory</td>\n",
       "    </tr>\n",
       "  </tbody>\n",
       "</table>\n",
       "</div>"
      ],
      "text/plain": [
       "                                                                                                                                                                                                                                                                                                                            title_text  \\\n",
       "1189  super haste inferno wolf portal bug for two day straight haven gotten any inferno wolf portal appearing on the map despite grinded for more than hr across two character somehow wa able to max the feather 300 300 yesterday and today but the super booster is showing is this bug am the only one having one submitted ticket   \n",
       "\n",
       "       subreddit  \n",
       "1189  Maplestory  "
      ]
     },
     "execution_count": 4,
     "metadata": {},
     "output_type": "execute_result"
    }
   ],
   "source": [
    "df.tail(1)"
   ]
  },
  {
   "cell_type": "code",
   "execution_count": 5,
   "id": "2cc18726-2d66-4baa-8413-408e193efdd5",
   "metadata": {},
   "outputs": [
    {
     "data": {
      "text/html": [
       "<div>\n",
       "<style scoped>\n",
       "    .dataframe tbody tr th:only-of-type {\n",
       "        vertical-align: middle;\n",
       "    }\n",
       "\n",
       "    .dataframe tbody tr th {\n",
       "        vertical-align: top;\n",
       "    }\n",
       "\n",
       "    .dataframe thead th {\n",
       "        text-align: right;\n",
       "    }\n",
       "</style>\n",
       "<table border=\"1\" class=\"dataframe\">\n",
       "  <thead>\n",
       "    <tr style=\"text-align: right;\">\n",
       "      <th></th>\n",
       "      <th>title_text</th>\n",
       "      <th>subreddit</th>\n",
       "    </tr>\n",
       "  </thead>\n",
       "  <tbody>\n",
       "    <tr>\n",
       "      <th>0</th>\n",
       "      <td>need some help hi play on iro chaos currently at lvl 96 and jlvl 50 knight levelling ha hit bit of crawl mob tend to be too difficult for me im non vip player and newbie only have enough zeny for transcend and some supply for levelling any advice on where best to go ve been trying to look up some guide but only map recommendation came up</td>\n",
       "      <td>0</td>\n",
       "    </tr>\n",
       "  </tbody>\n",
       "</table>\n",
       "</div>"
      ],
      "text/plain": [
       "                                                                                                                                                                                                                                                                                                                                            title_text  \\\n",
       "0  need some help hi play on iro chaos currently at lvl 96 and jlvl 50 knight levelling ha hit bit of crawl mob tend to be too difficult for me im non vip player and newbie only have enough zeny for transcend and some supply for levelling any advice on where best to go ve been trying to look up some guide but only map recommendation came up   \n",
       "\n",
       "   subreddit  \n",
       "0          0  "
      ]
     },
     "execution_count": 5,
     "metadata": {},
     "output_type": "execute_result"
    }
   ],
   "source": [
    "# Mapping subreddit\n",
    "df['subreddit'] = df['subreddit'].map({'RagnarokOnline':0, 'Maplestory':1})\n",
    "df.head(1)"
   ]
  },
  {
   "cell_type": "code",
   "execution_count": 6,
   "id": "c21725b7-302c-4cc5-a2d2-3c380edaaec0",
   "metadata": {},
   "outputs": [
    {
     "data": {
      "text/html": [
       "<div>\n",
       "<style scoped>\n",
       "    .dataframe tbody tr th:only-of-type {\n",
       "        vertical-align: middle;\n",
       "    }\n",
       "\n",
       "    .dataframe tbody tr th {\n",
       "        vertical-align: top;\n",
       "    }\n",
       "\n",
       "    .dataframe thead th {\n",
       "        text-align: right;\n",
       "    }\n",
       "</style>\n",
       "<table border=\"1\" class=\"dataframe\">\n",
       "  <thead>\n",
       "    <tr style=\"text-align: right;\">\n",
       "      <th></th>\n",
       "      <th>title_text</th>\n",
       "      <th>subreddit</th>\n",
       "    </tr>\n",
       "  </thead>\n",
       "  <tbody>\n",
       "    <tr>\n",
       "      <th>1189</th>\n",
       "      <td>super haste inferno wolf portal bug for two day straight haven gotten any inferno wolf portal appearing on the map despite grinded for more than hr across two character somehow wa able to max the feather 300 300 yesterday and today but the super booster is showing is this bug am the only one having one submitted ticket</td>\n",
       "      <td>1</td>\n",
       "    </tr>\n",
       "  </tbody>\n",
       "</table>\n",
       "</div>"
      ],
      "text/plain": [
       "                                                                                                                                                                                                                                                                                                                            title_text  \\\n",
       "1189  super haste inferno wolf portal bug for two day straight haven gotten any inferno wolf portal appearing on the map despite grinded for more than hr across two character somehow wa able to max the feather 300 300 yesterday and today but the super booster is showing is this bug am the only one having one submitted ticket   \n",
       "\n",
       "      subreddit  \n",
       "1189          1  "
      ]
     },
     "execution_count": 6,
     "metadata": {},
     "output_type": "execute_result"
    }
   ],
   "source": [
    "df.tail(1)"
   ]
  },
  {
   "cell_type": "code",
   "execution_count": 7,
   "id": "a3f88776-39d9-4e96-9dcf-9320bb09601e",
   "metadata": {},
   "outputs": [],
   "source": [
    "#Set up model\n",
    "X = df['title_text']\n",
    "y = df['subreddit']"
   ]
  },
  {
   "cell_type": "code",
   "execution_count": 8,
   "id": "64471b30-7811-4f0e-a3f1-574afea9fafc",
   "metadata": {},
   "outputs": [
    {
     "data": {
      "text/plain": [
       "1    0.501681\n",
       "0    0.498319\n",
       "Name: subreddit, dtype: float64"
      ]
     },
     "execution_count": 8,
     "metadata": {},
     "output_type": "execute_result"
    }
   ],
   "source": [
    "# Double check on the proportions of the subreddit\n",
    "y.value_counts(normalize=True)"
   ]
  },
  {
   "cell_type": "markdown",
   "id": "e7ee2fbd-1718-4b4f-8259-e00bab627a28",
   "metadata": {},
   "source": [
    "Comment: The entries are quite balanced"
   ]
  },
  {
   "cell_type": "code",
   "execution_count": 9,
   "id": "93e72b99-b4dd-413b-b7ed-c2b9e9d0cf04",
   "metadata": {},
   "outputs": [],
   "source": [
    "# Split data into train and test\n",
    "X_train, X_test, y_train, y_test = train_test_split(X,\n",
    "                                                    y,\n",
    "                                                    test_size=0.33,\n",
    "                                                    random_state=42,\n",
    "                                                    stratify=y)"
   ]
  },
  {
   "cell_type": "markdown",
   "id": "82a077e2-8ec6-43bf-949f-5d4e62bcfbf6",
   "metadata": {},
   "source": [
    "# 6. Modelling"
   ]
  },
  {
   "cell_type": "markdown",
   "id": "c2d710ab-8af1-4dfa-9231-0898a4e7ccba",
   "metadata": {},
   "source": [
    "## 6.1 Count Vectoriser + Naive Bayes"
   ]
  },
  {
   "cell_type": "code",
   "execution_count": 10,
   "id": "f2152d70-4c20-4d3f-ae2b-757844848b1b",
   "metadata": {},
   "outputs": [],
   "source": [
    "#Set up pipeline with CountVectoriser and Naive Bayes\n",
    "pipe_cvec_nb = Pipeline([\n",
    "    ('cvec', CountVectorizer()),\n",
    "    ('nb', MultinomialNB())\n",
    "])\n",
    "\n",
    "# Set up pipeline parameters\n",
    "pipe_params_cvec_nb = {\n",
    "    'cvec__stop_words' :[None, \"english\"],\n",
    "    'cvec__max_features': [100, 500, 1000, 2000, 3000, 4000, 5000],\n",
    "    'cvec__min_df': [2, 3],\n",
    "    'cvec__max_df': [.85, .9, .95],\n",
    "    'cvec__ngram_range': [(1,1), (1,2), (1,3), (1,4)],\n",
    "    'nb__fit_prior' : [True, False]\n",
    "}\n",
    "\n",
    "# Instantiating GridSearch\n",
    "gs_cvec_nb = GridSearchCV(pipe_cvec_nb,\n",
    "                          param_grid = pipe_params_cvec_nb,\n",
    "                          cv=5,\n",
    "                          verbose=1,\n",
    "                         n_jobs=-1)"
   ]
  },
  {
   "cell_type": "code",
   "execution_count": 11,
   "id": "6e95f593-779d-4d30-8b86-64e96ad76d6f",
   "metadata": {},
   "outputs": [
    {
     "name": "stdout",
     "output_type": "stream",
     "text": [
      "Fitting 5 folds for each of 672 candidates, totalling 3360 fits\n",
      "CPU times: user 3.94 s, sys: 607 ms, total: 4.54 s\n",
      "Wall time: 1min 50s\n"
     ]
    },
    {
     "data": {
      "text/html": [
       "<style>#sk-container-id-1 {color: black;background-color: white;}#sk-container-id-1 pre{padding: 0;}#sk-container-id-1 div.sk-toggleable {background-color: white;}#sk-container-id-1 label.sk-toggleable__label {cursor: pointer;display: block;width: 100%;margin-bottom: 0;padding: 0.3em;box-sizing: border-box;text-align: center;}#sk-container-id-1 label.sk-toggleable__label-arrow:before {content: \"▸\";float: left;margin-right: 0.25em;color: #696969;}#sk-container-id-1 label.sk-toggleable__label-arrow:hover:before {color: black;}#sk-container-id-1 div.sk-estimator:hover label.sk-toggleable__label-arrow:before {color: black;}#sk-container-id-1 div.sk-toggleable__content {max-height: 0;max-width: 0;overflow: hidden;text-align: left;background-color: #f0f8ff;}#sk-container-id-1 div.sk-toggleable__content pre {margin: 0.2em;color: black;border-radius: 0.25em;background-color: #f0f8ff;}#sk-container-id-1 input.sk-toggleable__control:checked~div.sk-toggleable__content {max-height: 200px;max-width: 100%;overflow: auto;}#sk-container-id-1 input.sk-toggleable__control:checked~label.sk-toggleable__label-arrow:before {content: \"▾\";}#sk-container-id-1 div.sk-estimator input.sk-toggleable__control:checked~label.sk-toggleable__label {background-color: #d4ebff;}#sk-container-id-1 div.sk-label input.sk-toggleable__control:checked~label.sk-toggleable__label {background-color: #d4ebff;}#sk-container-id-1 input.sk-hidden--visually {border: 0;clip: rect(1px 1px 1px 1px);clip: rect(1px, 1px, 1px, 1px);height: 1px;margin: -1px;overflow: hidden;padding: 0;position: absolute;width: 1px;}#sk-container-id-1 div.sk-estimator {font-family: monospace;background-color: #f0f8ff;border: 1px dotted black;border-radius: 0.25em;box-sizing: border-box;margin-bottom: 0.5em;}#sk-container-id-1 div.sk-estimator:hover {background-color: #d4ebff;}#sk-container-id-1 div.sk-parallel-item::after {content: \"\";width: 100%;border-bottom: 1px solid gray;flex-grow: 1;}#sk-container-id-1 div.sk-label:hover label.sk-toggleable__label {background-color: #d4ebff;}#sk-container-id-1 div.sk-serial::before {content: \"\";position: absolute;border-left: 1px solid gray;box-sizing: border-box;top: 0;bottom: 0;left: 50%;z-index: 0;}#sk-container-id-1 div.sk-serial {display: flex;flex-direction: column;align-items: center;background-color: white;padding-right: 0.2em;padding-left: 0.2em;position: relative;}#sk-container-id-1 div.sk-item {position: relative;z-index: 1;}#sk-container-id-1 div.sk-parallel {display: flex;align-items: stretch;justify-content: center;background-color: white;position: relative;}#sk-container-id-1 div.sk-item::before, #sk-container-id-1 div.sk-parallel-item::before {content: \"\";position: absolute;border-left: 1px solid gray;box-sizing: border-box;top: 0;bottom: 0;left: 50%;z-index: -1;}#sk-container-id-1 div.sk-parallel-item {display: flex;flex-direction: column;z-index: 1;position: relative;background-color: white;}#sk-container-id-1 div.sk-parallel-item:first-child::after {align-self: flex-end;width: 50%;}#sk-container-id-1 div.sk-parallel-item:last-child::after {align-self: flex-start;width: 50%;}#sk-container-id-1 div.sk-parallel-item:only-child::after {width: 0;}#sk-container-id-1 div.sk-dashed-wrapped {border: 1px dashed gray;margin: 0 0.4em 0.5em 0.4em;box-sizing: border-box;padding-bottom: 0.4em;background-color: white;}#sk-container-id-1 div.sk-label label {font-family: monospace;font-weight: bold;display: inline-block;line-height: 1.2em;}#sk-container-id-1 div.sk-label-container {text-align: center;}#sk-container-id-1 div.sk-container {/* jupyter's `normalize.less` sets `[hidden] { display: none; }` but bootstrap.min.css set `[hidden] { display: none !important; }` so we also need the `!important` here to be able to override the default hidden behavior on the sphinx rendered scikit-learn.org. See: https://github.com/scikit-learn/scikit-learn/issues/21755 */display: inline-block !important;position: relative;}#sk-container-id-1 div.sk-text-repr-fallback {display: none;}</style><div id=\"sk-container-id-1\" class=\"sk-top-container\"><div class=\"sk-text-repr-fallback\"><pre>GridSearchCV(cv=5,\n",
       "             estimator=Pipeline(steps=[(&#x27;cvec&#x27;, CountVectorizer()),\n",
       "                                       (&#x27;nb&#x27;, MultinomialNB())]),\n",
       "             n_jobs=-1,\n",
       "             param_grid={&#x27;cvec__max_df&#x27;: [0.85, 0.9, 0.95],\n",
       "                         &#x27;cvec__max_features&#x27;: [100, 500, 1000, 2000, 3000,\n",
       "                                                4000, 5000],\n",
       "                         &#x27;cvec__min_df&#x27;: [2, 3],\n",
       "                         &#x27;cvec__ngram_range&#x27;: [(1, 1), (1, 2), (1, 3), (1, 4)],\n",
       "                         &#x27;cvec__stop_words&#x27;: [None, &#x27;english&#x27;],\n",
       "                         &#x27;nb__fit_prior&#x27;: [True, False]},\n",
       "             verbose=1)</pre><b>In a Jupyter environment, please rerun this cell to show the HTML representation or trust the notebook. <br />On GitHub, the HTML representation is unable to render, please try loading this page with nbviewer.org.</b></div><div class=\"sk-container\" hidden><div class=\"sk-item sk-dashed-wrapped\"><div class=\"sk-label-container\"><div class=\"sk-label sk-toggleable\"><input class=\"sk-toggleable__control sk-hidden--visually\" id=\"sk-estimator-id-1\" type=\"checkbox\" ><label for=\"sk-estimator-id-1\" class=\"sk-toggleable__label sk-toggleable__label-arrow\">GridSearchCV</label><div class=\"sk-toggleable__content\"><pre>GridSearchCV(cv=5,\n",
       "             estimator=Pipeline(steps=[(&#x27;cvec&#x27;, CountVectorizer()),\n",
       "                                       (&#x27;nb&#x27;, MultinomialNB())]),\n",
       "             n_jobs=-1,\n",
       "             param_grid={&#x27;cvec__max_df&#x27;: [0.85, 0.9, 0.95],\n",
       "                         &#x27;cvec__max_features&#x27;: [100, 500, 1000, 2000, 3000,\n",
       "                                                4000, 5000],\n",
       "                         &#x27;cvec__min_df&#x27;: [2, 3],\n",
       "                         &#x27;cvec__ngram_range&#x27;: [(1, 1), (1, 2), (1, 3), (1, 4)],\n",
       "                         &#x27;cvec__stop_words&#x27;: [None, &#x27;english&#x27;],\n",
       "                         &#x27;nb__fit_prior&#x27;: [True, False]},\n",
       "             verbose=1)</pre></div></div></div><div class=\"sk-parallel\"><div class=\"sk-parallel-item\"><div class=\"sk-item\"><div class=\"sk-label-container\"><div class=\"sk-label sk-toggleable\"><input class=\"sk-toggleable__control sk-hidden--visually\" id=\"sk-estimator-id-2\" type=\"checkbox\" ><label for=\"sk-estimator-id-2\" class=\"sk-toggleable__label sk-toggleable__label-arrow\">estimator: Pipeline</label><div class=\"sk-toggleable__content\"><pre>Pipeline(steps=[(&#x27;cvec&#x27;, CountVectorizer()), (&#x27;nb&#x27;, MultinomialNB())])</pre></div></div></div><div class=\"sk-serial\"><div class=\"sk-item\"><div class=\"sk-serial\"><div class=\"sk-item\"><div class=\"sk-estimator sk-toggleable\"><input class=\"sk-toggleable__control sk-hidden--visually\" id=\"sk-estimator-id-3\" type=\"checkbox\" ><label for=\"sk-estimator-id-3\" class=\"sk-toggleable__label sk-toggleable__label-arrow\">CountVectorizer</label><div class=\"sk-toggleable__content\"><pre>CountVectorizer()</pre></div></div></div><div class=\"sk-item\"><div class=\"sk-estimator sk-toggleable\"><input class=\"sk-toggleable__control sk-hidden--visually\" id=\"sk-estimator-id-4\" type=\"checkbox\" ><label for=\"sk-estimator-id-4\" class=\"sk-toggleable__label sk-toggleable__label-arrow\">MultinomialNB</label><div class=\"sk-toggleable__content\"><pre>MultinomialNB()</pre></div></div></div></div></div></div></div></div></div></div></div></div>"
      ],
      "text/plain": [
       "GridSearchCV(cv=5,\n",
       "             estimator=Pipeline(steps=[('cvec', CountVectorizer()),\n",
       "                                       ('nb', MultinomialNB())]),\n",
       "             n_jobs=-1,\n",
       "             param_grid={'cvec__max_df': [0.85, 0.9, 0.95],\n",
       "                         'cvec__max_features': [100, 500, 1000, 2000, 3000,\n",
       "                                                4000, 5000],\n",
       "                         'cvec__min_df': [2, 3],\n",
       "                         'cvec__ngram_range': [(1, 1), (1, 2), (1, 3), (1, 4)],\n",
       "                         'cvec__stop_words': [None, 'english'],\n",
       "                         'nb__fit_prior': [True, False]},\n",
       "             verbose=1)"
      ]
     },
     "execution_count": 11,
     "metadata": {},
     "output_type": "execute_result"
    }
   ],
   "source": [
    "%%time\n",
    "#Fitting model\n",
    "gs_cvec_nb.fit(X_train, y_train)"
   ]
  },
  {
   "cell_type": "code",
   "execution_count": 12,
   "id": "09105184-757b-43f7-9487-815b258be9c0",
   "metadata": {},
   "outputs": [
    {
     "name": "stdout",
     "output_type": "stream",
     "text": [
      "Train Score: 0.99\n",
      "Test Score: 0.9008\n",
      " \n",
      "Accuracy: 0.9008\n",
      "Misclassification rate: 0.0992\n",
      "Specificity: 0.9133\n",
      "Sensitivity aka Recall: 0.8883\n",
      "Precision: 0.9115\n"
     ]
    },
    {
     "data": {
      "image/png": "[encoded data removed]",
      "text/plain": [
       "<Figure size 640x480 with 2 Axes>"
      ]
     },
     "metadata": {},
     "output_type": "display_data"
    }
   ],
   "source": [
    "# Printing out train and test score\n",
    "tr_score_cvec_nb = round(gs_cvec_nb.score(X_train, y_train),4)\n",
    "tt_score_cvec_nb = round(gs_cvec_nb.score(X_test, y_test),4)\n",
    "print(f'Train Score: {tr_score_cvec_nb}')\n",
    "print(f'Test Score: {tt_score_cvec_nb}')\n",
    "print(\" \")\n",
    "\n",
    "plot_confusion_matrix(gs_cvec_nb, X_test, y_test, cmap='Blues', values_format='d')\n",
    "\n",
    "# Get predictions\n",
    "prediction_cvec_nb = gs_cvec_nb.predict(X_test)\n",
    "\n",
    "# Save confusion matrix values\n",
    "tn, fp, fn, tp = confusion_matrix(y_test, prediction_cvec_nb).ravel()\n",
    "accuracy_cvec_nb = round((tp+tn)/(tp+fp+tn+fn),4)\n",
    "misclassification_cvec_nb = round((fp+fn)/(tp+fp+tn+fn),4)\n",
    "specificity_cvec_nb = round(tn/(tn+fp),4)\n",
    "recall_cvec_nb = round(tp/(tp+fn),4)\n",
    "precision_cvec_nb = round(tp/(tp+fp),4)\n",
    "print(f'Accuracy: {accuracy_cvec_nb}')\n",
    "print(f'Misclassification rate: {misclassification_cvec_nb}')\n",
    "print(f'Specificity: {specificity_cvec_nb}')\n",
    "print(f'Sensitivity aka Recall: {recall_cvec_nb}')\n",
    "print(f'Precision: {precision_cvec_nb}')"
   ]
  },
  {
   "cell_type": "code",
   "execution_count": 13,
   "id": "5f6b61d2-1ec3-4806-b569-12c44cf496d8",
   "metadata": {},
   "outputs": [
    {
     "name": "stdout",
     "output_type": "stream",
     "text": [
      "GridSearch Best Parameters: {'cvec__max_df': 0.85, 'cvec__max_features': 5000, 'cvec__min_df': 2, 'cvec__ngram_range': (1, 2), 'cvec__stop_words': 'english', 'nb__fit_prior': True}\n"
     ]
    }
   ],
   "source": [
    "#Show the best parameters\n",
    "best_param_cvec_nb = gs_cvec_nb.best_params_\n",
    "print(f'GridSearch Best Parameters: {best_param_cvec_nb}')"
   ]
  },
  {
   "cell_type": "markdown",
   "id": "1ee7985f-0083-458e-a54d-0057fda4279a",
   "metadata": {},
   "source": [
    "## 6.2 TFIDF + Naive Bayes"
   ]
  },
  {
   "cell_type": "code",
   "execution_count": 14,
   "id": "2ade8568-6009-49d3-9cda-53a725ab9403",
   "metadata": {},
   "outputs": [],
   "source": [
    "#Set up pipeline with TFIDF and Naive Bayes\n",
    "pipe_tvec_nb = Pipeline([\n",
    "    ('tvec', TfidfVectorizer()),\n",
    "    ('nb', MultinomialNB())\n",
    "])\n",
    "\n",
    "# Set up pipeline parameters\n",
    "pipe_params_tvec_nb = {\n",
    "    'tvec__stop_words' :[None, \"english\"],\n",
    "    'tvec__max_features': [100, 500, 1000, 2000, 3000, 4000, 5000],\n",
    "    'tvec__min_df': [2, 3],\n",
    "    'tvec__max_df': [.85, .9, .95],\n",
    "    'tvec__ngram_range': [(1,1), (1,2), (1,3), (1,4)],\n",
    "    'nb__fit_prior' : [True, False]\n",
    "}\n",
    "\n",
    "# Instantiating GridSearch\n",
    "gs_tvec_nb = GridSearchCV(pipe_tvec_nb,\n",
    "                          param_grid = pipe_params_tvec_nb,\n",
    "                          cv=5,\n",
    "                          verbose=1,\n",
    "                         n_jobs=-1)"
   ]
  },
  {
   "cell_type": "code",
   "execution_count": 15,
   "id": "1e8b3c12-b8b3-40f4-8938-51140beafc93",
   "metadata": {},
   "outputs": [
    {
     "name": "stdout",
     "output_type": "stream",
     "text": [
      "Fitting 5 folds for each of 672 candidates, totalling 3360 fits\n",
      "CPU times: user 4.07 s, sys: 596 ms, total: 4.66 s\n",
      "Wall time: 1min 51s\n"
     ]
    },
    {
     "data": {
      "text/html": [
       "<style>#sk-container-id-2 {color: black;background-color: white;}#sk-container-id-2 pre{padding: 0;}#sk-container-id-2 div.sk-toggleable {background-color: white;}#sk-container-id-2 label.sk-toggleable__label {cursor: pointer;display: block;width: 100%;margin-bottom: 0;padding: 0.3em;box-sizing: border-box;text-align: center;}#sk-container-id-2 label.sk-toggleable__label-arrow:before {content: \"▸\";float: left;margin-right: 0.25em;color: #696969;}#sk-container-id-2 label.sk-toggleable__label-arrow:hover:before {color: black;}#sk-container-id-2 div.sk-estimator:hover label.sk-toggleable__label-arrow:before {color: black;}#sk-container-id-2 div.sk-toggleable__content {max-height: 0;max-width: 0;overflow: hidden;text-align: left;background-color: #f0f8ff;}#sk-container-id-2 div.sk-toggleable__content pre {margin: 0.2em;color: black;border-radius: 0.25em;background-color: #f0f8ff;}#sk-container-id-2 input.sk-toggleable__control:checked~div.sk-toggleable__content {max-height: 200px;max-width: 100%;overflow: auto;}#sk-container-id-2 input.sk-toggleable__control:checked~label.sk-toggleable__label-arrow:before {content: \"▾\";}#sk-container-id-2 div.sk-estimator input.sk-toggleable__control:checked~label.sk-toggleable__label {background-color: #d4ebff;}#sk-container-id-2 div.sk-label input.sk-toggleable__control:checked~label.sk-toggleable__label {background-color: #d4ebff;}#sk-container-id-2 input.sk-hidden--visually {border: 0;clip: rect(1px 1px 1px 1px);clip: rect(1px, 1px, 1px, 1px);height: 1px;margin: -1px;overflow: hidden;padding: 0;position: absolute;width: 1px;}#sk-container-id-2 div.sk-estimator {font-family: monospace;background-color: #f0f8ff;border: 1px dotted black;border-radius: 0.25em;box-sizing: border-box;margin-bottom: 0.5em;}#sk-container-id-2 div.sk-estimator:hover {background-color: #d4ebff;}#sk-container-id-2 div.sk-parallel-item::after {content: \"\";width: 100%;border-bottom: 1px solid gray;flex-grow: 1;}#sk-container-id-2 div.sk-label:hover label.sk-toggleable__label {background-color: #d4ebff;}#sk-container-id-2 div.sk-serial::before {content: \"\";position: absolute;border-left: 1px solid gray;box-sizing: border-box;top: 0;bottom: 0;left: 50%;z-index: 0;}#sk-container-id-2 div.sk-serial {display: flex;flex-direction: column;align-items: center;background-color: white;padding-right: 0.2em;padding-left: 0.2em;position: relative;}#sk-container-id-2 div.sk-item {position: relative;z-index: 1;}#sk-container-id-2 div.sk-parallel {display: flex;align-items: stretch;justify-content: center;background-color: white;position: relative;}#sk-container-id-2 div.sk-item::before, #sk-container-id-2 div.sk-parallel-item::before {content: \"\";position: absolute;border-left: 1px solid gray;box-sizing: border-box;top: 0;bottom: 0;left: 50%;z-index: -1;}#sk-container-id-2 div.sk-parallel-item {display: flex;flex-direction: column;z-index: 1;position: relative;background-color: white;}#sk-container-id-2 div.sk-parallel-item:first-child::after {align-self: flex-end;width: 50%;}#sk-container-id-2 div.sk-parallel-item:last-child::after {align-self: flex-start;width: 50%;}#sk-container-id-2 div.sk-parallel-item:only-child::after {width: 0;}#sk-container-id-2 div.sk-dashed-wrapped {border: 1px dashed gray;margin: 0 0.4em 0.5em 0.4em;box-sizing: border-box;padding-bottom: 0.4em;background-color: white;}#sk-container-id-2 div.sk-label label {font-family: monospace;font-weight: bold;display: inline-block;line-height: 1.2em;}#sk-container-id-2 div.sk-label-container {text-align: center;}#sk-container-id-2 div.sk-container {/* jupyter's `normalize.less` sets `[hidden] { display: none; }` but bootstrap.min.css set `[hidden] { display: none !important; }` so we also need the `!important` here to be able to override the default hidden behavior on the sphinx rendered scikit-learn.org. See: https://github.com/scikit-learn/scikit-learn/issues/21755 */display: inline-block !important;position: relative;}#sk-container-id-2 div.sk-text-repr-fallback {display: none;}</style><div id=\"sk-container-id-2\" class=\"sk-top-container\"><div class=\"sk-text-repr-fallback\"><pre>GridSearchCV(cv=5,\n",
       "             estimator=Pipeline(steps=[(&#x27;tvec&#x27;, TfidfVectorizer()),\n",
       "                                       (&#x27;nb&#x27;, MultinomialNB())]),\n",
       "             n_jobs=-1,\n",
       "             param_grid={&#x27;nb__fit_prior&#x27;: [True, False],\n",
       "                         &#x27;tvec__max_df&#x27;: [0.85, 0.9, 0.95],\n",
       "                         &#x27;tvec__max_features&#x27;: [100, 500, 1000, 2000, 3000,\n",
       "                                                4000, 5000],\n",
       "                         &#x27;tvec__min_df&#x27;: [2, 3],\n",
       "                         &#x27;tvec__ngram_range&#x27;: [(1, 1), (1, 2), (1, 3), (1, 4)],\n",
       "                         &#x27;tvec__stop_words&#x27;: [None, &#x27;english&#x27;]},\n",
       "             verbose=1)</pre><b>In a Jupyter environment, please rerun this cell to show the HTML representation or trust the notebook. <br />On GitHub, the HTML representation is unable to render, please try loading this page with nbviewer.org.</b></div><div class=\"sk-container\" hidden><div class=\"sk-item sk-dashed-wrapped\"><div class=\"sk-label-container\"><div class=\"sk-label sk-toggleable\"><input class=\"sk-toggleable__control sk-hidden--visually\" id=\"sk-estimator-id-5\" type=\"checkbox\" ><label for=\"sk-estimator-id-5\" class=\"sk-toggleable__label sk-toggleable__label-arrow\">GridSearchCV</label><div class=\"sk-toggleable__content\"><pre>GridSearchCV(cv=5,\n",
       "             estimator=Pipeline(steps=[(&#x27;tvec&#x27;, TfidfVectorizer()),\n",
       "                                       (&#x27;nb&#x27;, MultinomialNB())]),\n",
       "             n_jobs=-1,\n",
       "             param_grid={&#x27;nb__fit_prior&#x27;: [True, False],\n",
       "                         &#x27;tvec__max_df&#x27;: [0.85, 0.9, 0.95],\n",
       "                         &#x27;tvec__max_features&#x27;: [100, 500, 1000, 2000, 3000,\n",
       "                                                4000, 5000],\n",
       "                         &#x27;tvec__min_df&#x27;: [2, 3],\n",
       "                         &#x27;tvec__ngram_range&#x27;: [(1, 1), (1, 2), (1, 3), (1, 4)],\n",
       "                         &#x27;tvec__stop_words&#x27;: [None, &#x27;english&#x27;]},\n",
       "             verbose=1)</pre></div></div></div><div class=\"sk-parallel\"><div class=\"sk-parallel-item\"><div class=\"sk-item\"><div class=\"sk-label-container\"><div class=\"sk-label sk-toggleable\"><input class=\"sk-toggleable__control sk-hidden--visually\" id=\"sk-estimator-id-6\" type=\"checkbox\" ><label for=\"sk-estimator-id-6\" class=\"sk-toggleable__label sk-toggleable__label-arrow\">estimator: Pipeline</label><div class=\"sk-toggleable__content\"><pre>Pipeline(steps=[(&#x27;tvec&#x27;, TfidfVectorizer()), (&#x27;nb&#x27;, MultinomialNB())])</pre></div></div></div><div class=\"sk-serial\"><div class=\"sk-item\"><div class=\"sk-serial\"><div class=\"sk-item\"><div class=\"sk-estimator sk-toggleable\"><input class=\"sk-toggleable__control sk-hidden--visually\" id=\"sk-estimator-id-7\" type=\"checkbox\" ><label for=\"sk-estimator-id-7\" class=\"sk-toggleable__label sk-toggleable__label-arrow\">TfidfVectorizer</label><div class=\"sk-toggleable__content\"><pre>TfidfVectorizer()</pre></div></div></div><div class=\"sk-item\"><div class=\"sk-estimator sk-toggleable\"><input class=\"sk-toggleable__control sk-hidden--visually\" id=\"sk-estimator-id-8\" type=\"checkbox\" ><label for=\"sk-estimator-id-8\" class=\"sk-toggleable__label sk-toggleable__label-arrow\">MultinomialNB</label><div class=\"sk-toggleable__content\"><pre>MultinomialNB()</pre></div></div></div></div></div></div></div></div></div></div></div></div>"
      ],
      "text/plain": [
       "GridSearchCV(cv=5,\n",
       "             estimator=Pipeline(steps=[('tvec', TfidfVectorizer()),\n",
       "                                       ('nb', MultinomialNB())]),\n",
       "             n_jobs=-1,\n",
       "             param_grid={'nb__fit_prior': [True, False],\n",
       "                         'tvec__max_df': [0.85, 0.9, 0.95],\n",
       "                         'tvec__max_features': [100, 500, 1000, 2000, 3000,\n",
       "                                                4000, 5000],\n",
       "                         'tvec__min_df': [2, 3],\n",
       "                         'tvec__ngram_range': [(1, 1), (1, 2), (1, 3), (1, 4)],\n",
       "                         'tvec__stop_words': [None, 'english']},\n",
       "             verbose=1)"
      ]
     },
     "execution_count": 15,
     "metadata": {},
     "output_type": "execute_result"
    }
   ],
   "source": [
    "%%time\n",
    "#Fitting model\n",
    "gs_tvec_nb.fit(X_train, y_train)"
   ]
  },
  {
   "cell_type": "code",
   "execution_count": 16,
   "id": "d4e53039-7541-4fa6-bbaf-446bd849441c",
   "metadata": {},
   "outputs": [
    {
     "name": "stdout",
     "output_type": "stream",
     "text": [
      "Train Score: 0.9787\n",
      "Test Score: 0.8931\n",
      " \n",
      "Accuracy: 0.8931\n",
      "Misclassification rate: 0.1069\n",
      "Specificity: 0.9184\n",
      "Sensitivity aka Recall: 0.868\n",
      "Precision: 0.9144\n"
     ]
    },
    {
     "data": {
      "image/png": "[encoded data removed]",
      "text/plain": [
       "<Figure size 640x480 with 2 Axes>"
      ]
     },
     "metadata": {},
     "output_type": "display_data"
    }
   ],
   "source": [
    "# Printing out train and test score\n",
    "tr_score_tvec_nb = round(gs_tvec_nb.score(X_train, y_train),4)\n",
    "tt_score_tvec_nb = round(gs_tvec_nb.score(X_test, y_test),4)\n",
    "print(f'Train Score: {tr_score_tvec_nb}')\n",
    "print(f'Test Score: {tt_score_tvec_nb}')\n",
    "print(\" \")\n",
    "\n",
    "plot_confusion_matrix(gs_tvec_nb, X_test, y_test, cmap='Blues', values_format='d')\n",
    "\n",
    "# Get predictions\n",
    "prediction_tvec_nb = gs_tvec_nb.predict(X_test)\n",
    "\n",
    "# Save confusion matrix values\n",
    "tn, fp, fn, tp = confusion_matrix(y_test, prediction_tvec_nb).ravel()\n",
    "accuracy_tvec_nb = round((tp+tn)/(tp+fp+tn+fn),4)\n",
    "misclassification_tvec_nb = round((fp+fn)/(tp+fp+tn+fn),4)\n",
    "specificity_tvec_nb = round(tn/(tn+fp),4)\n",
    "recall_tvec_nb = round(tp/(tp+fn),4)\n",
    "precision_tvec_nb = round(tp/(tp+fp),4)\n",
    "print(f'Accuracy: {accuracy_tvec_nb}')\n",
    "print(f'Misclassification rate: {misclassification_tvec_nb}')\n",
    "print(f'Specificity: {specificity_tvec_nb}')\n",
    "print(f'Sensitivity aka Recall: {recall_tvec_nb}')\n",
    "print(f'Precision: {precision_tvec_nb}')"
   ]
  },
  {
   "cell_type": "code",
   "execution_count": 17,
   "id": "a04efa26-a3e9-4fbf-8e56-174358c6b528",
   "metadata": {},
   "outputs": [
    {
     "name": "stdout",
     "output_type": "stream",
     "text": [
      "GridSearch Best Parameters: {'nb__fit_prior': True, 'tvec__max_df': 0.85, 'tvec__max_features': 3000, 'tvec__min_df': 2, 'tvec__ngram_range': (1, 2), 'tvec__stop_words': 'english'}\n"
     ]
    }
   ],
   "source": [
    "#Show the best parameters\n",
    "best_param_tvec_nb = gs_tvec_nb.best_params_\n",
    "print(f'GridSearch Best Parameters: {best_param_tvec_nb}')"
   ]
  },
  {
   "cell_type": "markdown",
   "id": "8bf25a96-b8f8-41df-9c06-40cbb54a142a",
   "metadata": {},
   "source": [
    "## 6.3 Count Vectoriser + Logistic Regression"
   ]
  },
  {
   "cell_type": "code",
   "execution_count": 18,
   "id": "c49f5fb5-2bf0-4e21-8c4a-e8eec56891f3",
   "metadata": {},
   "outputs": [],
   "source": [
    "#Set up pipeline with CountVectoriser and Logistic Regression\n",
    "pipe_cvec_lr = Pipeline([\n",
    "    ('cvec', CountVectorizer()),\n",
    "    ('lr', LogisticRegression())\n",
    "])\n",
    "\n",
    "# Set up pipeline parameters\n",
    "pipe_params_cvec_lr = {\n",
    "    'cvec__stop_words' :[None, \"english\"],\n",
    "    'cvec__max_features': [100, 500, 1000, 2000, 3000, 4000, 5000],\n",
    "    'cvec__min_df': [2, 3],\n",
    "    'cvec__max_df': [.85, .9, .95],\n",
    "    'cvec__ngram_range': [(1,1), (1,2), (1,3), (1,4)],\n",
    "    'lr__penalty' : ['l2', 'l1', 'elasticnet'],\n",
    "    'lr__C' : [0.01, 0.1, 1, 10, 100, 200],\n",
    "    'lr__max_iter': [1000000]\n",
    "}\n",
    "\n",
    "# Instantiating GridSearch\n",
    "gs_cvec_lr = GridSearchCV(pipe_cvec_lr,\n",
    "                          param_grid = pipe_params_cvec_lr,\n",
    "                          cv=5,\n",
    "                          verbose=1,\n",
    "                         n_jobs=-1)"
   ]
  },
  {
   "cell_type": "code",
   "execution_count": 19,
   "id": "98bee6a7-62fd-48ac-9d4c-0862cb06d1ed",
   "metadata": {},
   "outputs": [
    {
     "name": "stdout",
     "output_type": "stream",
     "text": [
      "Fitting 5 folds for each of 6048 candidates, totalling 30240 fits\n",
      "CPU times: user 39.2 s, sys: 5.68 s, total: 44.9 s\n",
      "Wall time: 15min 52s\n"
     ]
    },
    {
     "data": {
      "text/html": [
       "<style>#sk-container-id-3 {color: black;background-color: white;}#sk-container-id-3 pre{padding: 0;}#sk-container-id-3 div.sk-toggleable {background-color: white;}#sk-container-id-3 label.sk-toggleable__label {cursor: pointer;display: block;width: 100%;margin-bottom: 0;padding: 0.3em;box-sizing: border-box;text-align: center;}#sk-container-id-3 label.sk-toggleable__label-arrow:before {content: \"▸\";float: left;margin-right: 0.25em;color: #696969;}#sk-container-id-3 label.sk-toggleable__label-arrow:hover:before {color: black;}#sk-container-id-3 div.sk-estimator:hover label.sk-toggleable__label-arrow:before {color: black;}#sk-container-id-3 div.sk-toggleable__content {max-height: 0;max-width: 0;overflow: hidden;text-align: left;background-color: #f0f8ff;}#sk-container-id-3 div.sk-toggleable__content pre {margin: 0.2em;color: black;border-radius: 0.25em;background-color: #f0f8ff;}#sk-container-id-3 input.sk-toggleable__control:checked~div.sk-toggleable__content {max-height: 200px;max-width: 100%;overflow: auto;}#sk-container-id-3 input.sk-toggleable__control:checked~label.sk-toggleable__label-arrow:before {content: \"▾\";}#sk-container-id-3 div.sk-estimator input.sk-toggleable__control:checked~label.sk-toggleable__label {background-color: #d4ebff;}#sk-container-id-3 div.sk-label input.sk-toggleable__control:checked~label.sk-toggleable__label {background-color: #d4ebff;}#sk-container-id-3 input.sk-hidden--visually {border: 0;clip: rect(1px 1px 1px 1px);clip: rect(1px, 1px, 1px, 1px);height: 1px;margin: -1px;overflow: hidden;padding: 0;position: absolute;width: 1px;}#sk-container-id-3 div.sk-estimator {font-family: monospace;background-color: #f0f8ff;border: 1px dotted black;border-radius: 0.25em;box-sizing: border-box;margin-bottom: 0.5em;}#sk-container-id-3 div.sk-estimator:hover {background-color: #d4ebff;}#sk-container-id-3 div.sk-parallel-item::after {content: \"\";width: 100%;border-bottom: 1px solid gray;flex-grow: 1;}#sk-container-id-3 div.sk-label:hover label.sk-toggleable__label {background-color: #d4ebff;}#sk-container-id-3 div.sk-serial::before {content: \"\";position: absolute;border-left: 1px solid gray;box-sizing: border-box;top: 0;bottom: 0;left: 50%;z-index: 0;}#sk-container-id-3 div.sk-serial {display: flex;flex-direction: column;align-items: center;background-color: white;padding-right: 0.2em;padding-left: 0.2em;position: relative;}#sk-container-id-3 div.sk-item {position: relative;z-index: 1;}#sk-container-id-3 div.sk-parallel {display: flex;align-items: stretch;justify-content: center;background-color: white;position: relative;}#sk-container-id-3 div.sk-item::before, #sk-container-id-3 div.sk-parallel-item::before {content: \"\";position: absolute;border-left: 1px solid gray;box-sizing: border-box;top: 0;bottom: 0;left: 50%;z-index: -1;}#sk-container-id-3 div.sk-parallel-item {display: flex;flex-direction: column;z-index: 1;position: relative;background-color: white;}#sk-container-id-3 div.sk-parallel-item:first-child::after {align-self: flex-end;width: 50%;}#sk-container-id-3 div.sk-parallel-item:last-child::after {align-self: flex-start;width: 50%;}#sk-container-id-3 div.sk-parallel-item:only-child::after {width: 0;}#sk-container-id-3 div.sk-dashed-wrapped {border: 1px dashed gray;margin: 0 0.4em 0.5em 0.4em;box-sizing: border-box;padding-bottom: 0.4em;background-color: white;}#sk-container-id-3 div.sk-label label {font-family: monospace;font-weight: bold;display: inline-block;line-height: 1.2em;}#sk-container-id-3 div.sk-label-container {text-align: center;}#sk-container-id-3 div.sk-container {/* jupyter's `normalize.less` sets `[hidden] { display: none; }` but bootstrap.min.css set `[hidden] { display: none !important; }` so we also need the `!important` here to be able to override the default hidden behavior on the sphinx rendered scikit-learn.org. See: https://github.com/scikit-learn/scikit-learn/issues/21755 */display: inline-block !important;position: relative;}#sk-container-id-3 div.sk-text-repr-fallback {display: none;}</style><div id=\"sk-container-id-3\" class=\"sk-top-container\"><div class=\"sk-text-repr-fallback\"><pre>GridSearchCV(cv=5,\n",
       "             estimator=Pipeline(steps=[(&#x27;cvec&#x27;, CountVectorizer()),\n",
       "                                       (&#x27;lr&#x27;, LogisticRegression())]),\n",
       "             n_jobs=-1,\n",
       "             param_grid={&#x27;cvec__max_df&#x27;: [0.85, 0.9, 0.95],\n",
       "                         &#x27;cvec__max_features&#x27;: [100, 500, 1000, 2000, 3000,\n",
       "                                                4000, 5000],\n",
       "                         &#x27;cvec__min_df&#x27;: [2, 3],\n",
       "                         &#x27;cvec__ngram_range&#x27;: [(1, 1), (1, 2), (1, 3), (1, 4)],\n",
       "                         &#x27;cvec__stop_words&#x27;: [None, &#x27;english&#x27;],\n",
       "                         &#x27;lr__C&#x27;: [0.01, 0.1, 1, 10, 100, 200],\n",
       "                         &#x27;lr__max_iter&#x27;: [1000000],\n",
       "                         &#x27;lr__penalty&#x27;: [&#x27;l2&#x27;, &#x27;l1&#x27;, &#x27;elasticnet&#x27;]},\n",
       "             verbose=1)</pre><b>In a Jupyter environment, please rerun this cell to show the HTML representation or trust the notebook. <br />On GitHub, the HTML representation is unable to render, please try loading this page with nbviewer.org.</b></div><div class=\"sk-container\" hidden><div class=\"sk-item sk-dashed-wrapped\"><div class=\"sk-label-container\"><div class=\"sk-label sk-toggleable\"><input class=\"sk-toggleable__control sk-hidden--visually\" id=\"sk-estimator-id-9\" type=\"checkbox\" ><label for=\"sk-estimator-id-9\" class=\"sk-toggleable__label sk-toggleable__label-arrow\">GridSearchCV</label><div class=\"sk-toggleable__content\"><pre>GridSearchCV(cv=5,\n",
       "             estimator=Pipeline(steps=[(&#x27;cvec&#x27;, CountVectorizer()),\n",
       "                                       (&#x27;lr&#x27;, LogisticRegression())]),\n",
       "             n_jobs=-1,\n",
       "             param_grid={&#x27;cvec__max_df&#x27;: [0.85, 0.9, 0.95],\n",
       "                         &#x27;cvec__max_features&#x27;: [100, 500, 1000, 2000, 3000,\n",
       "                                                4000, 5000],\n",
       "                         &#x27;cvec__min_df&#x27;: [2, 3],\n",
       "                         &#x27;cvec__ngram_range&#x27;: [(1, 1), (1, 2), (1, 3), (1, 4)],\n",
       "                         &#x27;cvec__stop_words&#x27;: [None, &#x27;english&#x27;],\n",
       "                         &#x27;lr__C&#x27;: [0.01, 0.1, 1, 10, 100, 200],\n",
       "                         &#x27;lr__max_iter&#x27;: [1000000],\n",
       "                         &#x27;lr__penalty&#x27;: [&#x27;l2&#x27;, &#x27;l1&#x27;, &#x27;elasticnet&#x27;]},\n",
       "             verbose=1)</pre></div></div></div><div class=\"sk-parallel\"><div class=\"sk-parallel-item\"><div class=\"sk-item\"><div class=\"sk-label-container\"><div class=\"sk-label sk-toggleable\"><input class=\"sk-toggleable__control sk-hidden--visually\" id=\"sk-estimator-id-10\" type=\"checkbox\" ><label for=\"sk-estimator-id-10\" class=\"sk-toggleable__label sk-toggleable__label-arrow\">estimator: Pipeline</label><div class=\"sk-toggleable__content\"><pre>Pipeline(steps=[(&#x27;cvec&#x27;, CountVectorizer()), (&#x27;lr&#x27;, LogisticRegression())])</pre></div></div></div><div class=\"sk-serial\"><div class=\"sk-item\"><div class=\"sk-serial\"><div class=\"sk-item\"><div class=\"sk-estimator sk-toggleable\"><input class=\"sk-toggleable__control sk-hidden--visually\" id=\"sk-estimator-id-11\" type=\"checkbox\" ><label for=\"sk-estimator-id-11\" class=\"sk-toggleable__label sk-toggleable__label-arrow\">CountVectorizer</label><div class=\"sk-toggleable__content\"><pre>CountVectorizer()</pre></div></div></div><div class=\"sk-item\"><div class=\"sk-estimator sk-toggleable\"><input class=\"sk-toggleable__control sk-hidden--visually\" id=\"sk-estimator-id-12\" type=\"checkbox\" ><label for=\"sk-estimator-id-12\" class=\"sk-toggleable__label sk-toggleable__label-arrow\">LogisticRegression</label><div class=\"sk-toggleable__content\"><pre>LogisticRegression()</pre></div></div></div></div></div></div></div></div></div></div></div></div>"
      ],
      "text/plain": [
       "GridSearchCV(cv=5,\n",
       "             estimator=Pipeline(steps=[('cvec', CountVectorizer()),\n",
       "                                       ('lr', LogisticRegression())]),\n",
       "             n_jobs=-1,\n",
       "             param_grid={'cvec__max_df': [0.85, 0.9, 0.95],\n",
       "                         'cvec__max_features': [100, 500, 1000, 2000, 3000,\n",
       "                                                4000, 5000],\n",
       "                         'cvec__min_df': [2, 3],\n",
       "                         'cvec__ngram_range': [(1, 1), (1, 2), (1, 3), (1, 4)],\n",
       "                         'cvec__stop_words': [None, 'english'],\n",
       "                         'lr__C': [0.01, 0.1, 1, 10, 100, 200],\n",
       "                         'lr__max_iter': [1000000],\n",
       "                         'lr__penalty': ['l2', 'l1', 'elasticnet']},\n",
       "             verbose=1)"
      ]
     },
     "execution_count": 19,
     "metadata": {},
     "output_type": "execute_result"
    }
   ],
   "source": [
    "%%time\n",
    "#Fitting model\n",
    "gs_cvec_lr.fit(X_train, y_train)"
   ]
  },
  {
   "cell_type": "code",
   "execution_count": 20,
   "id": "3070c001-d9a8-433e-b810-49e218556a41",
   "metadata": {},
   "outputs": [
    {
     "name": "stdout",
     "output_type": "stream",
     "text": [
      "Train Score: 0.9987\n",
      "Test Score: 0.9059\n",
      " \n",
      "Accuracy: 0.9059\n",
      "Misclassification rate: 0.0941\n",
      "Specificity: 0.8878\n",
      "Sensitivity aka Recall: 0.9239\n",
      "Precision: 0.8922\n"
     ]
    },
    {
     "data": {
      "image/png": "[encoded data removed]",
      "text/plain": [
       "<Figure size 640x480 with 2 Axes>"
      ]
     },
     "metadata": {},
     "output_type": "display_data"
    }
   ],
   "source": [
    "# Printing out train and test score\n",
    "tr_score_cvec_lr = round(gs_cvec_lr.score(X_train, y_train),4)\n",
    "tt_score_cvec_lr = round(gs_cvec_lr.score(X_test, y_test),4)\n",
    "print(f'Train Score: {tr_score_cvec_lr}')\n",
    "print(f'Test Score: {tt_score_cvec_lr}')\n",
    "print(\" \")\n",
    "\n",
    "plot_confusion_matrix(gs_cvec_lr, X_test, y_test, cmap='Blues', values_format='d')\n",
    "\n",
    "# Get predictions\n",
    "prediction_cvec_lr = gs_cvec_lr.predict(X_test)\n",
    "\n",
    "# Save confusion matrix values\n",
    "tn, fp, fn, tp = confusion_matrix(y_test, prediction_cvec_lr).ravel()\n",
    "accuracy_cvec_lr = round((tp+tn)/(tp+fp+tn+fn),4)\n",
    "misclassification_cvec_lr = round((fp+fn)/(tp+fp+tn+fn),4)\n",
    "specificity_cvec_lr = round(tn/(tn+fp),4)\n",
    "recall_cvec_lr = round(tp/(tp+fn),4)\n",
    "precision_cvec_lr = round(tp/(tp+fp),4)\n",
    "print(f'Accuracy: {accuracy_cvec_lr}')\n",
    "print(f'Misclassification rate: {misclassification_cvec_lr}')\n",
    "print(f'Specificity: {specificity_cvec_lr}')\n",
    "print(f'Sensitivity aka Recall: {recall_cvec_lr}')\n",
    "print(f'Precision: {precision_cvec_lr}')"
   ]
  },
  {
   "cell_type": "code",
   "execution_count": 21,
   "id": "f1a5ac33-d2e8-4dd1-bdc8-f224aa19302d",
   "metadata": {},
   "outputs": [
    {
     "name": "stdout",
     "output_type": "stream",
     "text": [
      "GridSearch Best Parameters: {'cvec__max_df': 0.85, 'cvec__max_features': 3000, 'cvec__min_df': 2, 'cvec__ngram_range': (1, 1), 'cvec__stop_words': 'english', 'lr__C': 1, 'lr__max_iter': 1000000, 'lr__penalty': 'l2'}\n"
     ]
    }
   ],
   "source": [
    "#Show the best parameters\n",
    "best_param_cvec_lr = gs_cvec_lr.best_params_\n",
    "print(f'GridSearch Best Parameters: {best_param_cvec_lr}')"
   ]
  },
  {
   "cell_type": "markdown",
   "id": "74cc9ed9-f743-4f43-a68e-dc353844a6f9",
   "metadata": {},
   "source": [
    "## 6.4 TFIDF + Logistic Regression"
   ]
  },
  {
   "cell_type": "code",
   "execution_count": 22,
   "id": "db7b10f0-e070-4bea-8b26-74214b0d2b85",
   "metadata": {},
   "outputs": [],
   "source": [
    "#Set up pipeline with CountVectoriser and Logistic Regression\n",
    "pipe_tvec_lr = Pipeline([\n",
    "    ('tvec', TfidfVectorizer()),\n",
    "    ('lr', LogisticRegression())\n",
    "])\n",
    "\n",
    "# Set up pipeline parameters\n",
    "pipe_params_tvec_lr = {\n",
    "    'tvec__stop_words' :[None, \"english\"],\n",
    "    'tvec__max_features': [100, 500, 1000, 2000, 3000, 4000, 5000],\n",
    "    'tvec__min_df': [2, 3],\n",
    "    'tvec__max_df': [.85, .9, .95],\n",
    "    'tvec__ngram_range': [(1,1), (1,2), (1,3), (1,4)],\n",
    "    'lr__penalty' : ['l2', 'l1', 'elasticnet'],\n",
    "    'lr__C' : [0.01, 0.1, 1, 10, 100, 200],\n",
    "    'lr__max_iter': [1000000]\n",
    "}\n",
    "\n",
    "# Instantiating GridSearch\n",
    "gs_tvec_lr = GridSearchCV(pipe_tvec_lr,\n",
    "                          param_grid = pipe_params_tvec_lr,\n",
    "                          cv=5,\n",
    "                          verbose=1,\n",
    "                         n_jobs=-1)"
   ]
  },
  {
   "cell_type": "code",
   "execution_count": 23,
   "id": "b2284cd9-4bef-4367-9cc5-bf4f53a5b17b",
   "metadata": {},
   "outputs": [
    {
     "name": "stdout",
     "output_type": "stream",
     "text": [
      "Fitting 5 folds for each of 6048 candidates, totalling 30240 fits\n",
      "CPU times: user 45.2 s, sys: 6.45 s, total: 51.7 s\n",
      "Wall time: 42min 29s\n"
     ]
    },
    {
     "data": {
      "text/html": [
       "<style>#sk-container-id-4 {color: black;background-color: white;}#sk-container-id-4 pre{padding: 0;}#sk-container-id-4 div.sk-toggleable {background-color: white;}#sk-container-id-4 label.sk-toggleable__label {cursor: pointer;display: block;width: 100%;margin-bottom: 0;padding: 0.3em;box-sizing: border-box;text-align: center;}#sk-container-id-4 label.sk-toggleable__label-arrow:before {content: \"▸\";float: left;margin-right: 0.25em;color: #696969;}#sk-container-id-4 label.sk-toggleable__label-arrow:hover:before {color: black;}#sk-container-id-4 div.sk-estimator:hover label.sk-toggleable__label-arrow:before {color: black;}#sk-container-id-4 div.sk-toggleable__content {max-height: 0;max-width: 0;overflow: hidden;text-align: left;background-color: #f0f8ff;}#sk-container-id-4 div.sk-toggleable__content pre {margin: 0.2em;color: black;border-radius: 0.25em;background-color: #f0f8ff;}#sk-container-id-4 input.sk-toggleable__control:checked~div.sk-toggleable__content {max-height: 200px;max-width: 100%;overflow: auto;}#sk-container-id-4 input.sk-toggleable__control:checked~label.sk-toggleable__label-arrow:before {content: \"▾\";}#sk-container-id-4 div.sk-estimator input.sk-toggleable__control:checked~label.sk-toggleable__label {background-color: #d4ebff;}#sk-container-id-4 div.sk-label input.sk-toggleable__control:checked~label.sk-toggleable__label {background-color: #d4ebff;}#sk-container-id-4 input.sk-hidden--visually {border: 0;clip: rect(1px 1px 1px 1px);clip: rect(1px, 1px, 1px, 1px);height: 1px;margin: -1px;overflow: hidden;padding: 0;position: absolute;width: 1px;}#sk-container-id-4 div.sk-estimator {font-family: monospace;background-color: #f0f8ff;border: 1px dotted black;border-radius: 0.25em;box-sizing: border-box;margin-bottom: 0.5em;}#sk-container-id-4 div.sk-estimator:hover {background-color: #d4ebff;}#sk-container-id-4 div.sk-parallel-item::after {content: \"\";width: 100%;border-bottom: 1px solid gray;flex-grow: 1;}#sk-container-id-4 div.sk-label:hover label.sk-toggleable__label {background-color: #d4ebff;}#sk-container-id-4 div.sk-serial::before {content: \"\";position: absolute;border-left: 1px solid gray;box-sizing: border-box;top: 0;bottom: 0;left: 50%;z-index: 0;}#sk-container-id-4 div.sk-serial {display: flex;flex-direction: column;align-items: center;background-color: white;padding-right: 0.2em;padding-left: 0.2em;position: relative;}#sk-container-id-4 div.sk-item {position: relative;z-index: 1;}#sk-container-id-4 div.sk-parallel {display: flex;align-items: stretch;justify-content: center;background-color: white;position: relative;}#sk-container-id-4 div.sk-item::before, #sk-container-id-4 div.sk-parallel-item::before {content: \"\";position: absolute;border-left: 1px solid gray;box-sizing: border-box;top: 0;bottom: 0;left: 50%;z-index: -1;}#sk-container-id-4 div.sk-parallel-item {display: flex;flex-direction: column;z-index: 1;position: relative;background-color: white;}#sk-container-id-4 div.sk-parallel-item:first-child::after {align-self: flex-end;width: 50%;}#sk-container-id-4 div.sk-parallel-item:last-child::after {align-self: flex-start;width: 50%;}#sk-container-id-4 div.sk-parallel-item:only-child::after {width: 0;}#sk-container-id-4 div.sk-dashed-wrapped {border: 1px dashed gray;margin: 0 0.4em 0.5em 0.4em;box-sizing: border-box;padding-bottom: 0.4em;background-color: white;}#sk-container-id-4 div.sk-label label {font-family: monospace;font-weight: bold;display: inline-block;line-height: 1.2em;}#sk-container-id-4 div.sk-label-container {text-align: center;}#sk-container-id-4 div.sk-container {/* jupyter's `normalize.less` sets `[hidden] { display: none; }` but bootstrap.min.css set `[hidden] { display: none !important; }` so we also need the `!important` here to be able to override the default hidden behavior on the sphinx rendered scikit-learn.org. See: https://github.com/scikit-learn/scikit-learn/issues/21755 */display: inline-block !important;position: relative;}#sk-container-id-4 div.sk-text-repr-fallback {display: none;}</style><div id=\"sk-container-id-4\" class=\"sk-top-container\"><div class=\"sk-text-repr-fallback\"><pre>GridSearchCV(cv=5,\n",
       "             estimator=Pipeline(steps=[(&#x27;tvec&#x27;, TfidfVectorizer()),\n",
       "                                       (&#x27;lr&#x27;, LogisticRegression())]),\n",
       "             n_jobs=-1,\n",
       "             param_grid={&#x27;lr__C&#x27;: [0.01, 0.1, 1, 10, 100, 200],\n",
       "                         &#x27;lr__max_iter&#x27;: [1000000],\n",
       "                         &#x27;lr__penalty&#x27;: [&#x27;l2&#x27;, &#x27;l1&#x27;, &#x27;elasticnet&#x27;],\n",
       "                         &#x27;tvec__max_df&#x27;: [0.85, 0.9, 0.95],\n",
       "                         &#x27;tvec__max_features&#x27;: [100, 500, 1000, 2000, 3000,\n",
       "                                                4000, 5000],\n",
       "                         &#x27;tvec__min_df&#x27;: [2, 3],\n",
       "                         &#x27;tvec__ngram_range&#x27;: [(1, 1), (1, 2), (1, 3), (1, 4)],\n",
       "                         &#x27;tvec__stop_words&#x27;: [None, &#x27;english&#x27;]},\n",
       "             verbose=1)</pre><b>In a Jupyter environment, please rerun this cell to show the HTML representation or trust the notebook. <br />On GitHub, the HTML representation is unable to render, please try loading this page with nbviewer.org.</b></div><div class=\"sk-container\" hidden><div class=\"sk-item sk-dashed-wrapped\"><div class=\"sk-label-container\"><div class=\"sk-label sk-toggleable\"><input class=\"sk-toggleable__control sk-hidden--visually\" id=\"sk-estimator-id-13\" type=\"checkbox\" ><label for=\"sk-estimator-id-13\" class=\"sk-toggleable__label sk-toggleable__label-arrow\">GridSearchCV</label><div class=\"sk-toggleable__content\"><pre>GridSearchCV(cv=5,\n",
       "             estimator=Pipeline(steps=[(&#x27;tvec&#x27;, TfidfVectorizer()),\n",
       "                                       (&#x27;lr&#x27;, LogisticRegression())]),\n",
       "             n_jobs=-1,\n",
       "             param_grid={&#x27;lr__C&#x27;: [0.01, 0.1, 1, 10, 100, 200],\n",
       "                         &#x27;lr__max_iter&#x27;: [1000000],\n",
       "                         &#x27;lr__penalty&#x27;: [&#x27;l2&#x27;, &#x27;l1&#x27;, &#x27;elasticnet&#x27;],\n",
       "                         &#x27;tvec__max_df&#x27;: [0.85, 0.9, 0.95],\n",
       "                         &#x27;tvec__max_features&#x27;: [100, 500, 1000, 2000, 3000,\n",
       "                                                4000, 5000],\n",
       "                         &#x27;tvec__min_df&#x27;: [2, 3],\n",
       "                         &#x27;tvec__ngram_range&#x27;: [(1, 1), (1, 2), (1, 3), (1, 4)],\n",
       "                         &#x27;tvec__stop_words&#x27;: [None, &#x27;english&#x27;]},\n",
       "             verbose=1)</pre></div></div></div><div class=\"sk-parallel\"><div class=\"sk-parallel-item\"><div class=\"sk-item\"><div class=\"sk-label-container\"><div class=\"sk-label sk-toggleable\"><input class=\"sk-toggleable__control sk-hidden--visually\" id=\"sk-estimator-id-14\" type=\"checkbox\" ><label for=\"sk-estimator-id-14\" class=\"sk-toggleable__label sk-toggleable__label-arrow\">estimator: Pipeline</label><div class=\"sk-toggleable__content\"><pre>Pipeline(steps=[(&#x27;tvec&#x27;, TfidfVectorizer()), (&#x27;lr&#x27;, LogisticRegression())])</pre></div></div></div><div class=\"sk-serial\"><div class=\"sk-item\"><div class=\"sk-serial\"><div class=\"sk-item\"><div class=\"sk-estimator sk-toggleable\"><input class=\"sk-toggleable__control sk-hidden--visually\" id=\"sk-estimator-id-15\" type=\"checkbox\" ><label for=\"sk-estimator-id-15\" class=\"sk-toggleable__label sk-toggleable__label-arrow\">TfidfVectorizer</label><div class=\"sk-toggleable__content\"><pre>TfidfVectorizer()</pre></div></div></div><div class=\"sk-item\"><div class=\"sk-estimator sk-toggleable\"><input class=\"sk-toggleable__control sk-hidden--visually\" id=\"sk-estimator-id-16\" type=\"checkbox\" ><label for=\"sk-estimator-id-16\" class=\"sk-toggleable__label sk-toggleable__label-arrow\">LogisticRegression</label><div class=\"sk-toggleable__content\"><pre>LogisticRegression()</pre></div></div></div></div></div></div></div></div></div></div></div></div>"
      ],
      "text/plain": [
       "GridSearchCV(cv=5,\n",
       "             estimator=Pipeline(steps=[('tvec', TfidfVectorizer()),\n",
       "                                       ('lr', LogisticRegression())]),\n",
       "             n_jobs=-1,\n",
       "             param_grid={'lr__C': [0.01, 0.1, 1, 10, 100, 200],\n",
       "                         'lr__max_iter': [1000000],\n",
       "                         'lr__penalty': ['l2', 'l1', 'elasticnet'],\n",
       "                         'tvec__max_df': [0.85, 0.9, 0.95],\n",
       "                         'tvec__max_features': [100, 500, 1000, 2000, 3000,\n",
       "                                                4000, 5000],\n",
       "                         'tvec__min_df': [2, 3],\n",
       "                         'tvec__ngram_range': [(1, 1), (1, 2), (1, 3), (1, 4)],\n",
       "                         'tvec__stop_words': [None, 'english']},\n",
       "             verbose=1)"
      ]
     },
     "execution_count": 23,
     "metadata": {},
     "output_type": "execute_result"
    }
   ],
   "source": [
    "%%time\n",
    "#Fitting model\n",
    "gs_tvec_lr.fit(X_train, y_train)"
   ]
  },
  {
   "cell_type": "code",
   "execution_count": 24,
   "id": "3cc04776-6ce8-4113-b915-ce0883396ed0",
   "metadata": {},
   "outputs": [
    {
     "name": "stdout",
     "output_type": "stream",
     "text": [
      "Train Score: 1.0\n",
      "Test Score: 0.916\n",
      " \n",
      "Accuracy: 0.916\n",
      "Misclassification rate: 0.084\n",
      "Specificity: 0.8827\n",
      "Sensitivity aka Recall: 0.9492\n",
      "Precision: 0.8905\n"
     ]
    },
    {
     "data": {
      "image/png": "[encoded data removed]",
      "text/plain": [
       "<Figure size 640x480 with 2 Axes>"
      ]
     },
     "metadata": {},
     "output_type": "display_data"
    }
   ],
   "source": [
    "# Printing out train and test score\n",
    "tr_score_tvec_lr = round(gs_tvec_lr.score(X_train, y_train),4)\n",
    "tt_score_tvec_lr = round(gs_tvec_lr.score(X_test, y_test),4)\n",
    "print(f'Train Score: {tr_score_tvec_lr}')\n",
    "print(f'Test Score: {tt_score_tvec_lr}')\n",
    "print(\" \")\n",
    "\n",
    "plot_confusion_matrix(gs_tvec_lr, X_test, y_test, cmap='Blues', values_format='d')\n",
    "\n",
    "# Get predictions\n",
    "prediction_tvec_lr = gs_tvec_lr.predict(X_test)\n",
    "\n",
    "# Save confusion matrix values\n",
    "tn, fp, fn, tp = confusion_matrix(y_test, prediction_tvec_lr).ravel()\n",
    "accuracy_tvec_lr = round((tp+tn)/(tp+fp+tn+fn),4)\n",
    "misclassification_tvec_lr = round((fp+fn)/(tp+fp+tn+fn),4)\n",
    "specificity_tvec_lr = round(tn/(tn+fp),4)\n",
    "recall_tvec_lr = round(tp/(tp+fn),4)\n",
    "precision_tvec_lr = round(tp/(tp+fp),4)\n",
    "print(f'Accuracy: {accuracy_tvec_lr}')\n",
    "print(f'Misclassification rate: {misclassification_tvec_lr}')\n",
    "print(f'Specificity: {specificity_tvec_lr}')\n",
    "print(f'Sensitivity aka Recall: {recall_tvec_lr}')\n",
    "print(f'Precision: {precision_tvec_lr}')"
   ]
  },
  {
   "cell_type": "code",
   "execution_count": 25,
   "id": "0407a067-4efd-4873-9867-b5c84cad6b45",
   "metadata": {},
   "outputs": [
    {
     "name": "stdout",
     "output_type": "stream",
     "text": [
      "GridSearch Best Parameters: {'lr__C': 10, 'lr__max_iter': 1000000, 'lr__penalty': 'l2', 'tvec__max_df': 0.85, 'tvec__max_features': 3000, 'tvec__min_df': 2, 'tvec__ngram_range': (1, 1), 'tvec__stop_words': 'english'}\n"
     ]
    }
   ],
   "source": [
    "#Show the best parameters\n",
    "best_param_tvec_lr = gs_tvec_lr.best_params_\n",
    "print(f'GridSearch Best Parameters: {best_param_tvec_lr}')"
   ]
  },
  {
   "cell_type": "markdown",
   "id": "4e284966-6a9a-4494-a7e0-171e411918d4",
   "metadata": {},
   "source": [
    "# 7. Model Evaluation"
   ]
  },
  {
   "cell_type": "markdown",
   "id": "c7103e3d-9c92-4391-b2ce-ce8a1cddcd29",
   "metadata": {},
   "source": [
    "|Model|Transformer|Estimator|Train Score|Test Score a.k.a. Acccuracy|Precision|Recall a.k.a. Sensitivity|\n",
    "|---|---|---|---|---|---|---|\n",
    "|6.1|Count Vectoriser|Naive Bayes|0.9900|0.9008|0.9115|0.9133|\n",
    "|6.2|TFIDF|Naive Bayes|0.9787|0.8931|0.9144|0.9184|\n",
    "|6.3|Count Vectoriser|Logistic Regression|0.9987|0.9059|0.8922|0.8878|\n",
    "|6.4|TFIDF|Logistic Regression|1.000|0.916|0.8905|0.8827|"
   ]
  },
  {
   "cell_type": "markdown",
   "id": "41fdbf5d-228c-4a76-8398-e015c1ed4d9d",
   "metadata": {},
   "source": [
    "This project's purpose is to help the client to classify and sort the posts into appropriate forums. Considering that the data sets are rather balanced, accuracy will be the main metric. Precision and Recall may not be as important in this case. Precision serves to minimise false positive, which in this case, even if the posts are misclassified, it will not bring great inconvenience to the users. Recall serves to minimise false negative, which in this case, even if the posts are classified wrongly, it would not bring great inconvenience to the users."
   ]
  },
  {
   "cell_type": "markdown",
   "id": "e99469fe-6c36-43dd-b64e-8597a7a15bd8",
   "metadata": {},
   "source": [
    "**Based on the 4 models above, Model 6.1 and Model 6.4 has the better accuracy (with Model 6.4 slightly edging out Model 6.1), and decent Precision/Recall (which are not critical here). We will recommend these 2 models to the client.**"
   ]
  },
  {
   "cell_type": "markdown",
   "id": "4aa17b02-56e3-4542-99ab-e8d55c458021",
   "metadata": {},
   "source": [
    "Model 6.1 took 1.5 min for 3360 fits, which translates to 2240 fits/per min\n",
    "\n",
    "Model 6.4 took 15 mins for 30240 fits, which translatest to 2016 fits/per min\n",
    "\n",
    "The performance are rather comparable, hence, there is not advantage of any of the models to one another"
   ]
  },
  {
   "cell_type": "markdown",
   "id": "5e1ad672-8955-42b6-a6c9-7dd95607fb25",
   "metadata": {},
   "source": [
    "Some observations:\n",
    "\n",
    "i) All models adopted max_df of 0.85, which means the transformers ignore terms that appear in more than 85% of the documents\n",
    "\n",
    "ii) All models adopted min_df of 2, which means the transformers includes terms that appears in at least 2 documents\n",
    "\n",
    "iii) Naive Bayes prefers transformers that adopts n_gram of (1, 2), which means 1~2 words are considered in the classification\n",
    "\n",
    "iv) Logistic Regression prefers n_gram of (1, 1)\n",
    "\n",
    "v) All models performs best with \"English\" stop words"
   ]
  },
  {
   "cell_type": "markdown",
   "id": "8815e458-1afa-4282-a7ed-23b7b73553dc",
   "metadata": {},
   "source": [
    "# 8. Conclusions"
   ]
  },
  {
   "cell_type": "markdown",
   "id": "013418d1-4053-41da-87f2-87a55e173e0d",
   "metadata": {},
   "source": [
    "The Model 6.1 and Model 6.4 achived an accuracy of 90% and 92%, which is significantly better than the baseline model (around 50%, it's as good as flipping a coin).\n",
    "\n",
    "The client is able to use the models developed to clean up their forums and classify the posts in the forum to help the forum achieve a better user experience."
   ]
  },
  {
   "cell_type": "markdown",
   "id": "6a947747-5d7d-4e21-bd0c-e744fe3f0908",
   "metadata": {},
   "source": [
    "# Future Work"
   ]
  },
  {
   "cell_type": "markdown",
   "id": "bfe1d0b8-2a31-479b-ba3b-4aaf3ea67a2c",
   "metadata": {},
   "source": [
    "1. The dataset used is only 1000 posts, but the gridsearch work is already taking up a lot of computation resources. We will consider using more subreddits of similar contents to create a better classification model at the expense of some increase in computational requirements\n",
    "\n",
    "2. The client can consider creating subforums in their system for new and upcoming games in order to keep the forums organised from Day 1\n",
    "\n",
    "3. The NLP model can be further extended to create forum tags to further subdivide and improve the topic search for the users"
   ]
  }
 ],
 "metadata": {
  "kernelspec": {
   "display_name": "Python (dsi-sg)",
   "language": "python",
   "name": "dsi-sg"
  },
  "language_info": {
   "codemirror_mode": {
    "name": "ipython",
    "version": 3
   },
   "file_extension": ".py",
   "mimetype": "text/x-python",
   "name": "python",
   "nbconvert_exporter": "python",
   "pygments_lexer": "ipython3",
   "version": "3.9.13"
  }
 },
 "nbformat": 4,
 "nbformat_minor": 5
}
